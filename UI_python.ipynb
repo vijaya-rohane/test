{
 "cells": [
  {
   "cell_type": "code",
   "execution_count": 10,
   "metadata": {},
   "outputs": [],
   "source": [
    "#importing packages\n",
    "import wx\n",
    "import joblib\n",
    "import pandas as pd\n",
    "import category_encoders as ce\n"
   ]
  },
  {
   "cell_type": "code",
   "execution_count": 11,
   "metadata": {},
   "outputs": [],
   "source": [
    "class ExampleFrame(wx.Frame):\n",
    "    def __init__(self, parent):\n",
    "        wx.Frame.__init__(self, parent)\n",
    "\n",
    "        self.panel = wx.Panel(self)     \n",
    "        \n",
    "    \n",
    "        self.cate_id = wx.StaticText(self.panel, label=\"Category ID (integer):\")\n",
    "        self.cate_id_in = wx.TextCtrl(self.panel, size=(140, -1))\n",
    "        \n",
    "        self.tag = wx.StaticText(self.panel, label=\"Tag :\")\n",
    "        self.tag_in = wx.TextCtrl(self.panel, size=(140, -1))\n",
    "        \n",
    "        self.title = wx.StaticText(self.panel, label=\"Title :\")\n",
    "        self.title_in = wx.TextCtrl(self.panel, size=(140, -1))\n",
    "        \n",
    "        self.description = wx.StaticText(self.panel, label=\"Description :\")\n",
    "        self.description_in = wx.TextCtrl(self.panel, size=(140, -1))\n",
    "        \n",
    "        self.merch = wx.StaticText(self.panel, label=\"Merchandise (True/False):\")\n",
    "        self.merch_in = wx.TextCtrl(self.panel, size=(140, -1))\n",
    "        \n",
    "        self.patreon = wx.StaticText(self.panel, label=\"Patreon (True/False):\")\n",
    "        self.patreon_in = wx.TextCtrl(self.panel, size=(140, -1))\n",
    "        \n",
    "        self.button = wx.Button(self.panel, label=\"Calculate Streak and E-score\")\n",
    "        \n",
    "        self.quote = wx.StaticText(self.panel, label=\"Streak length in days : \")\n",
    "        self.result = wx.StaticText(self.panel, label=\"\")\n",
    "        self.result.SetForegroundColour(wx.RED)\n",
    "        \n",
    "        self.quote_escore = wx.StaticText(self.panel, label=\"Escore (out of 10) : \")\n",
    "        self.result_escore = wx.StaticText(self.panel, label=\"\")\n",
    "        self.result_escore.SetForegroundColour(wx.RED)\n",
    "\n",
    "        # Set sizer for the frame, so we can change frame size to match widgets\n",
    "        self.windowSizer = wx.BoxSizer()\n",
    "        self.windowSizer.Add(self.panel, 1, wx.ALL | wx.EXPAND)        \n",
    "\n",
    "        # Set sizer for the panel content\n",
    "        self.sizer = wx.GridBagSizer(5, 5)\n",
    "        \n",
    "        #self.sizer.Add(self.quote, (0, 0))\n",
    "        #self.sizer.Add(self.result, (0, 1))\n",
    "        \n",
    "        self.sizer.Add(self.cate_id, (0, 0))\n",
    "        self.sizer.Add(self.cate_id_in, (0, 1))\n",
    "        \n",
    "        self.sizer.Add(self.tag, (1, 0))\n",
    "        self.sizer.Add(self.tag_in, (1, 1))\n",
    "        \n",
    "        self.sizer.Add(self.title, (2, 0))\n",
    "        self.sizer.Add(self.title_in, (2, 1))\n",
    "        \n",
    "        self.sizer.Add(self.description, (3, 0))\n",
    "        self.sizer.Add(self.description_in, (3, 1))\n",
    "        \n",
    "        self.sizer.Add(self.merch, (4, 0))\n",
    "        self.sizer.Add(self.merch_in, (4, 1))\n",
    "        \n",
    "        self.sizer.Add(self.patreon, (5, 0))\n",
    "        self.sizer.Add(self.patreon_in, (5, 1))\n",
    "                \n",
    "        self.sizer.Add(self.button, (6, 0), (1, 2), flag=wx.EXPAND)\n",
    "        \n",
    "        self.sizer.Add(self.quote, (7, 0))\n",
    "        self.sizer.Add(self.result, (7, 1))\n",
    "        \n",
    "#        self.sizer.Add(self.button, (8, 0), (1, 2), flag=wx.EXPAND)\n",
    "        \n",
    "        self.sizer.Add(self.quote_escore, (8, 0))\n",
    "        self.sizer.Add(self.result_escore, (8, 1))\n",
    "               \n",
    "        \n",
    "        # Set simple sizer for a nice border\n",
    "        self.border = wx.BoxSizer()\n",
    "        self.border.Add(self.sizer, 1, wx.ALL | wx.EXPAND, 5)\n",
    "\n",
    "        # Use the sizers\n",
    "        self.panel.SetSizerAndFit(self.border)  \n",
    "        self.SetSizerAndFit(self.windowSizer)  \n",
    "\n",
    "        # Set event handlers\n",
    "        self.button.Bind(wx.EVT_BUTTON, self.OnButton)\n",
    "\n",
    "    def OnButton(self, e):\n",
    "        m=[]\n",
    "        V=[]\n",
    "        m.append(self.cate_id_in.GetValue())\n",
    "        m.append(self.tag_in.GetValue())\n",
    "        m.append(self.title_in.GetValue())\n",
    "        m.append(self.description_in.GetValue())\n",
    "        m.append(self.merch_in.GetValue())\n",
    "        m.append(self.patreon_in.GetValue())\n",
    "        #m[0] = self.cate_id.GetValue()\n",
    "        #m[1] = self.tag.GetValue()\n",
    "        #m[2] = self.title.GetValue()\n",
    "        #m[3] = self.description.GetValue()\n",
    "        #m[4] = self.merch.GetValue()\n",
    "        #m[5] = self.patreon.GetValue()\n",
    "        \n",
    "        #m[1]=len(m[1])\n",
    "        m[2]=len(m[2])\n",
    "        m[3]=len(m[3])\n",
    "        m[4],m[5] = [ele == \"True\" for ele in [m[4],m[5]]]\n",
    "        \n",
    "        \n",
    "        d = {'tags': [m[1]]}#, 2], 'col2': [3, 4]}\n",
    "        df = pd.DataFrame(data=d)\n",
    "\n",
    "        encoder = ce.OrdinalEncoder(cols=['tags'])\n",
    "        #encoder = ce.CountEncoder(cols=['tags'])\n",
    "        encoder.fit(df)\n",
    "        X = encoder.transform(df)\n",
    "        m[1]=X.iloc[0]['tags']\n",
    "        \n",
    "        V.append(m)\n",
    "        \n",
    "        loaded_rf = joblib.load(\"models/random_forest.joblib\")\n",
    "        prediction=loaded_rf.predict(V)\n",
    "        \n",
    "        \n",
    "        print(m)\n",
    "        print(\"Predicted values are : \", prediction)\n",
    "        \n",
    "      # self.DisplayResult.SetLabel(prediction)\n",
    "      #  self.DisplayResult.SetLabel(prediction)\n",
    "\n",
    "        \n",
    "        #prediction=10\n",
    "        self.result.SetLabel(str(prediction))\n",
    "        \n",
    "        # predicting escore \n",
    "        # load the saved model\n",
    "        loaded_rf_escore = joblib.load(\"models/Escore_randomforest.joblib\")\n",
    "        prediction_escore=loaded_rf_escore.predict(V)\n",
    "        self.result_escore.SetLabel(str(prediction_escore))"
   ]
  },
  {
   "cell_type": "code",
   "execution_count": 12,
   "metadata": {},
   "outputs": [
    {
     "name": "stderr",
     "output_type": "stream",
     "text": [
      "C:\\Users\\VR\\anaconda3\\lib\\site-packages\\category_encoders\\utils.py:21: FutureWarning: is_categorical is deprecated and will be removed in a future version. Use is_categorical_dtype instead.\n",
      "  elif pd.api.types.is_categorical(cols):\n"
     ]
    },
    {
     "name": "stdout",
     "output_type": "stream",
     "text": [
      "['20', 1, 46, 1107, False, False]\n",
      "Predicted values are :  [7.17]\n"
     ]
    }
   ],
   "source": [
    "app = wx.App(False)\n",
    "frame = ExampleFrame(None)\n",
    "frame.Show()\n",
    "app.MainLoop()\n",
    "del app"
   ]
  },
  {
   "cell_type": "code",
   "execution_count": 13,
   "metadata": {},
   "outputs": [
    {
     "name": "stderr",
     "output_type": "stream",
     "text": [
      "C:\\Users\\VR\\anaconda3\\lib\\site-packages\\category_encoders\\utils.py:21: FutureWarning: is_categorical is deprecated and will be removed in a future version. Use is_categorical_dtype instead.\n",
      "  elif pd.api.types.is_categorical(cols):\n"
     ]
    }
   ],
   "source": [
    "m1=[24\n",
    "    ,'lofi'\n",
    "    ,'lofi hip hop radio - beats to relax/study to'\n",
    "    ,' Thank you for listening, I hope you will have a good time here 🏆 | Take part in our weekly video contests for the chance to win gift cards & be featured on our pages →  https://www.instagram.com/p/CbqDFiRgBul/ 🎼 | Listen on Spotify, Apple music and more→  https://fanlink.to/lofigirl-music🌎 | Lofi Girl on all social media→  https://fanlink.to/lofigirl-social👕 | Lofi Girl merch→  https://bit.ly/Iofigirl-shop'\n",
    "    ,False\n",
    "    ,False\n",
    "   ]#'id','tags_new','title','description','Merch','Patreon'\n",
    "\n",
    "#m1[1]=len(m1[1])\n",
    "m1[2]=len(m1[2])\n",
    "m1[3]=len(m1[3])\n",
    "\n",
    "\n",
    "d = {'tags': [m1[1]]}#, 2], 'col2': [3, 4]}\n",
    "df = pd.DataFrame(data=d)\n",
    "\n",
    "encoder = ce.OrdinalEncoder(cols=['tags'])\n",
    "#encoder = ce.CountEncoder(cols=['tags'])\n",
    "encoder.fit(df)\n",
    "A = encoder.transform(df)\n",
    "m1[1]=A.iloc[0]['tags']"
   ]
  },
  {
   "cell_type": "code",
   "execution_count": 14,
   "metadata": {},
   "outputs": [
    {
     "name": "stderr",
     "output_type": "stream",
     "text": [
      "C:\\Users\\VR\\anaconda3\\lib\\site-packages\\category_encoders\\utils.py:21: FutureWarning: is_categorical is deprecated and will be removed in a future version. Use is_categorical_dtype instead.\n",
      "  elif pd.api.types.is_categorical(cols):\n"
     ]
    }
   ],
   "source": [
    "m2=[17\n",
    "    ,'chess'\n",
    "    ,'Magnus Carlsen stunned by 17-year-old super talent Abdusattorov Nodirbek | World Rapid 2021'\n",
    "    ,'After Magnus Carlsen got the better of Alireza Firouzja and Jan Krzysztof Duda, very few people thought that he would have trouble winning the World Rapid 2021, but the 17-year-old Uzbek phenom Abdusattorov Nodirbek had other intentions. Abdusattorov ground down Carlsen in the same style for which the World Champion is famed. Check out the game and get to know the tension that arose in the tournament hall when the game was going on.'\n",
    "    ,True\n",
    "    ,False\n",
    "   ]#'id','tags_new','title','description','Merch','Patreon'\n",
    "\n",
    "#m2[1]=len(m2[1])\n",
    "m2[2]=len(m2[2])\n",
    "m2[3]=len(m2[3])\n",
    "\n",
    "\n",
    "d = {'tags': [m2[1]]}#, 2], 'col2': [3, 4]}\n",
    "df = pd.DataFrame(data=d)\n",
    "\n",
    "encoder = ce.OrdinalEncoder(cols=['tags'])\n",
    "#encoder = ce.CountEncoder(cols=['tags'])\n",
    "encoder.fit(df)\n",
    "A = encoder.transform(df)\n",
    "m2[1]=A.iloc[0]['tags']"
   ]
  },
  {
   "cell_type": "code",
   "execution_count": 15,
   "metadata": {},
   "outputs": [
    {
     "name": "stderr",
     "output_type": "stream",
     "text": [
      "C:\\Users\\VR\\anaconda3\\lib\\site-packages\\category_encoders\\utils.py:21: FutureWarning: is_categorical is deprecated and will be removed in a future version. Use is_categorical_dtype instead.\n",
      "  elif pd.api.types.is_categorical(cols):\n"
     ]
    }
   ],
   "source": [
    "m3=[24\n",
    "    ,'mrbeast'\n",
    "    ,'$10,000 Every Day You Survive Prison'\n",
    "    ,'SUBSCRIBE IN THE NEXT 7 DAYS FOR A CHANCE TO WIN $10,000! New Merch - https://shopmrbeast.com/ SUBSCRIBE OR I TAKE YOUR DOG ╔═╦╗╔╦╗╔═╦═╦╦╦╦╗╔═╗ ║╚╣║║║╚╣╚╣╔╣╔╣║╚╣═╣  ╠╗║╚╝║║╠╗║╚╣║║║║║═╣ ╚═╩══╩═╩═╩═╩╝╚╩═╩═╝  ----------------------------------------------------------------follow all of these or i will kick you • Facebook - https://www.facebook.com/MrBeast6000/ • Twitter - https://twitter.com/MrBeast •  Instagram - https://www.instagram.com/mrbeast •  Im Hiring! - https://www.mrbeastjobs.com/--------------------------------------------------------------------'\n",
    "    ,True\n",
    "    ,False\n",
    "   ]#'id','tags_new','title','description','Merch','Patreon'\n",
    "\n",
    "#m2[1]=len(m2[1])\n",
    "m3[2]=len(m3[2])\n",
    "m3[3]=len(m3[3])\n",
    "\n",
    "\n",
    "d = {'tags': [m3[1]]}#, 2], 'col2': [3, 4]}\n",
    "df = pd.DataFrame(data=d)\n",
    "\n",
    "encoder = ce.OrdinalEncoder(cols=['tags'])\n",
    "#encoder = ce.CountEncoder(cols=['tags'])\n",
    "encoder.fit(df)\n",
    "A = encoder.transform(df)\n",
    "m3[1]=A.iloc[0]['tags']"
   ]
  },
  {
   "cell_type": "code",
   "execution_count": 16,
   "metadata": {},
   "outputs": [
    {
     "name": "stderr",
     "output_type": "stream",
     "text": [
      "C:\\Users\\VR\\anaconda3\\lib\\site-packages\\category_encoders\\utils.py:21: FutureWarning: is_categorical is deprecated and will be removed in a future version. Use is_categorical_dtype instead.\n",
      "  elif pd.api.types.is_categorical(cols):\n"
     ]
    }
   ],
   "source": [
    "m4=[20\n",
    "    ,'minecraft'\n",
    "    ,'23 Hacks for Minecraft That Don\"t Require Mods'\n",
    "    ,'How are these insane Minecraft things possible without mods? ▪Follow me on Twitter ▶@skipthetweets ▪Check out my Instagram ▶@skipthetutorial ▪Character drawn by @MagnaGallina Script by Jaeger Lefler Edited by Jeenneette Wolfe Footage collected by Jordan Cross, Abelardo Robles, and Frankie Mundo ------ The map used in parts of this video is a modified version of the world download from @GeminiTay lets play series. ------ Some of the maps used in this video are modified versions of the world downloads from BlueNerd Minecrafts channel, which you can watch here: @BlueNerd Minecraft  ------ The map used in parts of this video is a modified version of the world download from @Antlerboy  ------ Some music used in this video is courtesy of Mewmore. Make sure to follow their tracks at @Mewmore  ------ Portions of this video are copyrighted and owned by Nintendo, and their use is allowed by the Nintendo Game Content Guidelines for Online Video & Image Sharing Platforms. All other original content, unless expressly noted otherwise, is ©2022, by the Skip the Tutorial creator, all rights reserved.------'\n",
    "    ,False\n",
    "    ,False\n",
    "   ]#'id','tags_new','title','description','Merch','Patreon'\n",
    "\n",
    "#m2[1]=len(m2[1])\n",
    "m4[2]=len(m4[2])\n",
    "m4[3]=len(m4[3])\n",
    "\n",
    "\n",
    "d = {'tags': [m4[1]]}#, 2], 'col2': [3, 4]}\n",
    "df = pd.DataFrame(data=d)\n",
    "\n",
    "encoder = ce.OrdinalEncoder(cols=['tags'])\n",
    "#encoder = ce.CountEncoder(cols=['tags'])\n",
    "encoder.fit(df)\n",
    "A = encoder.transform(df)\n",
    "m4[1]=A.iloc[0]['tags']"
   ]
  },
  {
   "cell_type": "code",
   "execution_count": 17,
   "metadata": {},
   "outputs": [],
   "source": [
    "V=[]\n",
    "V.append(m1)\n",
    "V.append(m2)\n",
    "V.append(m3)\n",
    "V.append(m4)"
   ]
  },
  {
   "cell_type": "code",
   "execution_count": 18,
   "metadata": {},
   "outputs": [
    {
     "name": "stdout",
     "output_type": "stream",
     "text": [
      "[6.7  3.98 8.94 7.17]\n"
     ]
    }
   ],
   "source": [
    "loaded_rf = joblib.load(\"models/random_forest.joblib\")\n",
    "prediction=loaded_rf.predict(V)\n",
    "print(prediction)"
   ]
  },
  {
   "cell_type": "code",
   "execution_count": 19,
   "metadata": {},
   "outputs": [
    {
     "name": "stdout",
     "output_type": "stream",
     "text": [
      "[3.73085045 5.01716531 4.72455446 6.69979028]\n"
     ]
    }
   ],
   "source": [
    "loaded_rf_escore = joblib.load(\"models/Escore_randomforest.joblib\")\n",
    "prediction_escore=loaded_rf_escore.predict(V)\n",
    "print(prediction_escore)"
   ]
  },
  {
   "cell_type": "code",
   "execution_count": null,
   "metadata": {},
   "outputs": [],
   "source": []
  }
 ],
 "metadata": {
  "kernelspec": {
   "display_name": "Python 3",
   "language": "python",
   "name": "python3"
  },
  "language_info": {
   "codemirror_mode": {
    "name": "ipython",
    "version": 3
   },
   "file_extension": ".py",
   "mimetype": "text/x-python",
   "name": "python",
   "nbconvert_exporter": "python",
   "pygments_lexer": "ipython3",
   "version": "3.8.5"
  }
 },
 "nbformat": 4,
 "nbformat_minor": 4
}
